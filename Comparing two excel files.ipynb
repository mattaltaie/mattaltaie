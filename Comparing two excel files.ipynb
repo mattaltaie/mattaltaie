{
 "cells": [
  {
   "cell_type": "code",
   "execution_count": 2,
   "id": "2f03d547",
   "metadata": {},
   "outputs": [],
   "source": [
    "\"\"\"\n",
    "This script will perform the following tasks:\n",
    "\n",
    "1 - Import the old and new files\n",
    "2 - compare the old and new files\n",
    "3 - append the NEW FILE to highlight which cells were changed (dfDiff)\n",
    "4 - Create a new dataframe that contains ONLY the rows that include changed data\n",
    "5 - Create two new CSV files: One for the ammended new file with highlighted changes, another CSV containing only the rows with changed values\n",
    "\n",
    "\"\"\""
   ]
  },
  {
   "cell_type": "code",
   "execution_count": 3,
   "id": "2f93a1ef",
   "metadata": {},
   "outputs": [],
   "source": [
    "import pandas as pd\n",
    "import numpy as np"
   ]
  },
  {
   "cell_type": "code",
   "execution_count": 1,
   "id": "68b49063",
   "metadata": {},
   "outputs": [],
   "source": [
    "# Insert file paths below. Please don't forget the extensions:\n",
    "path1 = r'Insert old file path here. Don not forget the .xls or .xlsx or .csv'\n",
    "path2 = r'Insert new file path here. Don not forget the .xls or .xlsx or .csv'"
   ]
  },
  {
   "cell_type": "code",
   "execution_count": 2,
   "id": "50c9a74c",
   "metadata": {},
   "outputs": [
    {
     "ename": "NameError",
     "evalue": "name 'pd' is not defined",
     "output_type": "error",
     "traceback": [
      "\u001b[1;31m---------------------------------------------------------------------------\u001b[0m",
      "\u001b[1;31mNameError\u001b[0m                                 Traceback (most recent call last)",
      "Input \u001b[1;32mIn [2]\u001b[0m, in \u001b[0;36m<cell line: 2>\u001b[1;34m()\u001b[0m\n\u001b[0;32m      1\u001b[0m \u001b[38;5;66;03m# import the 2 files - if excel\u001b[39;00m\n\u001b[1;32m----> 2\u001b[0m old_file \u001b[38;5;241m=\u001b[39m \u001b[43mpd\u001b[49m\u001b[38;5;241m.\u001b[39mread_excel(path1)\n\u001b[0;32m      3\u001b[0m new_file \u001b[38;5;241m=\u001b[39m pd\u001b[38;5;241m.\u001b[39mread_excel(path2)\n",
      "\u001b[1;31mNameError\u001b[0m: name 'pd' is not defined"
     ]
    }
   ],
   "source": [
    "# import the 2 files - if excel. Make sure to comment out the csv code below if using an excel file\n",
    "old_file = pd.read_excel(path1)\n",
    "new_file = pd.read_excel(path2)\n",
    "\n",
    "# import the 2 files - if .csv. Make sure to comment out the excel code above if using a csv\n",
    "# old_file = pd.read_csv(path1)\n",
    "# new_file = pd.read_csv(path2)"
   ]
  },
  {
   "cell_type": "code",
   "execution_count": 3,
   "id": "3fbac45f",
   "metadata": {},
   "outputs": [],
   "source": [
    "# ### METHOD 1### - For redundancy. This code won't run\n",
    "# # The code below will compare column names, then values within the columns to see if they match\n",
    "\n",
    "# # Iterating the Columns Names of both Sheets\n",
    "# for i,j in zip(old_file,new_file):\n",
    "     \n",
    "#     # Creating empty lists to append the columns values    \n",
    "#     a,b =[],[]\n",
    "  \n",
    "#     # Iterating the columns values\n",
    "#     for m, n in zip(olf_file[i],new_file[j]):\n",
    "  \n",
    "#         # Appending values in lists\n",
    "#         a.append(m)\n",
    "#         b.append(n)\n",
    "  \n",
    "#     # Sorting the lists\n",
    "#     a.sort()\n",
    "#     b.sort()\n",
    "  \n",
    "#     # Iterating the list's values and comparing them\n",
    "#     for m, n in zip(range(len(a)), range(len(b))):\n",
    "#         if a[m] != b[n]:\n",
    "#             print('Column name : \\'{}\\' and Row Number : {}'.format(i,m))"
   ]
  },
  {
   "cell_type": "code",
   "execution_count": 6,
   "id": "6078468a",
   "metadata": {},
   "outputs": [],
   "source": [
    "### METHOD 2 ### - This is the best one. The code here will check and annotate the changed cells\n",
    "dfDiff = old_file.copy(deep=True)\n",
    "for row in range(dfDiff.shape[0]):\n",
    "    for col in range(dfDiff.shape[1]):\n",
    "        value_OLD = old_file.iloc[row,col]\n",
    "        try:\n",
    "            value_NEW = new_file.iloc[row,col]\n",
    "            if value_OLD==value_NEW:\n",
    "                dfDiff.iloc[row,col] = new_file.iloc[row,col]\n",
    "            else:\n",
    "                dfDiff.iloc[row,col] = ('{}-->{}').format(value_OLD,value_NEW)\n",
    "        except:\n",
    "            dfDiff.iloc[row,col] = ('{}-->{}').format(value_OLD, 'NaN')"
   ]
  },
  {
   "cell_type": "code",
   "execution_count": null,
   "id": "30fc1095",
   "metadata": {},
   "outputs": [],
   "source": [
    "dfDiff # View the dataframe"
   ]
  },
  {
   "cell_type": "code",
   "execution_count": null,
   "id": "cabea5be",
   "metadata": {},
   "outputs": [],
   "source": [
    "cols = dfDiff.columns.values.tolist() #Column names as extracted from the table\n",
    "cols"
   ]
  },
  {
   "cell_type": "code",
   "execution_count": null,
   "id": "84c883f4",
   "metadata": {},
   "outputs": [],
   "source": [
    "### The code below creates an empty dataframe, which then gets appended by dataframe rows that contain the changed cells ###\n",
    "updated_df = pd.DataFrame(columns = dfDiff.columns.values.tolist()) \n",
    "for col in cols:\n",
    "    new_row = dfDiff[dfDiff[col].astype(str).str.contains('--')]\n",
    "    updated_df = updated_df.append(new_row)"
   ]
  },
  {
   "cell_type": "code",
   "execution_count": null,
   "id": "88b1d367",
   "metadata": {},
   "outputs": [],
   "source": [
    "new_row"
   ]
  },
  {
   "cell_type": "code",
   "execution_count": null,
   "id": "a912efd3",
   "metadata": {},
   "outputs": [],
   "source": [
    "updated_df"
   ]
  },
  {
   "cell_type": "code",
   "execution_count": null,
   "id": "6c8b4e0c",
   "metadata": {},
   "outputs": [],
   "source": [
    "updated_df = updated_df[~updated_df.index.duplicated(keep='first')] # This line of code removes duplicates"
   ]
  },
  {
   "cell_type": "code",
   "execution_count": null,
   "id": "7732b3ee",
   "metadata": {},
   "outputs": [],
   "source": [
    "# Export new df as a new csv or excel. Don't forget the path\n",
    "save_path_annot = r'Insert the path where you want the annotated file. Do not forget the .xls or .xlsx or .csv'\n",
    "save_path_changes_only = r'Insert the path where you want the changed rows to save. Do not forget the .xls or .xlsx or .csv'\n",
    "dfDiff.to_csv(save_path_annot) # Comment this ine out if you are saving as excel\n",
    "#dfDiff.to_excel(save_path_annot) #comment this line out if you are saving as csv\n",
    "\n",
    "updated_df.to_csv(save_path_changes_only) # This saves ONLY the changed rows as a CSV\n",
    "#updated_df.to_excel(save_path_changes_only) #comment this line out if you are saving as csv\n",
    "\n",
    "# Export new df as a new csv\n",
    "\n",
    "dfDiff.to_csv(r'C:\\Users\\30062864\\Data\\trial1.csv') # This saves the new DF with the changes highlighted into a csv\n",
    "updated_df.to_csv(r'C:\\Users\\30062864\\Data\\trial1_changed_rows.csv') # This saves ONLY the changed rows as a CSV"
   ]
  }
 ],
 "metadata": {
  "kernelspec": {
   "display_name": "Python 3 (ipykernel)",
   "language": "python",
   "name": "python3"
  },
  "language_info": {
   "codemirror_mode": {
    "name": "ipython",
    "version": 3
   },
   "file_extension": ".py",
   "mimetype": "text/x-python",
   "name": "python",
   "nbconvert_exporter": "python",
   "pygments_lexer": "ipython3",
   "version": "3.9.12"
  }
 },
 "nbformat": 4,
 "nbformat_minor": 5
}
